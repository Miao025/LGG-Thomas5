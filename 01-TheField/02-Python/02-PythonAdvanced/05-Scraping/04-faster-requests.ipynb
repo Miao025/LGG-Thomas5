{
 "cells": [
  {
   "cell_type": "markdown",
   "metadata": {},
   "source": [
    "# Make your requests faster\n",
    "\n",
    "When you start scraping web-pages or requesting APIs, you will be facing a problem when doing a lot of requests: this is really slow!\n",
    "\n",
    "It's because python is slow! You could say, well it should not be. Let's see how we can speed things up!\n",
    "\n",
    "## Measure performances\n",
    "\n",
    "In this notebook we will need to track how much time some code is taking to execute.\n",
    "To make things easier, we will create a simple decorator that will print the number of micro-seconds a function takes to execute.\n",
    "\n",
    "A good opportunity to practice decorators in a practical example!\n",
    "\n",
    "*Note that you need python3.3 or higher.*"
   ]
  },
  {
   "cell_type": "code",
   "execution_count": 1,
   "metadata": {},
   "outputs": [
    {
     "name": "stdout",
     "output_type": "stream",
     "text": [
      "example took 2.0 sec\n"
     ]
    }
   ],
   "source": [
    "import time\n",
    "\n",
    "def print_timing(func):\n",
    "    '''Create a timing decorator function use @print_timing just above the function you want to time.'''\n",
    "\n",
    "    def wrapper(*arg):\n",
    "        start = time.perf_counter()\n",
    "        \n",
    "        # Run the function decorated\n",
    "        result = func(*arg)\n",
    "\n",
    "        end = time.perf_counter()\n",
    "        execution_time = round((end - start), 2)\n",
    "        print(f'{func.__name__} took {execution_time} sec')\n",
    "        return result\n",
    "\n",
    "    return wrapper\n",
    "\n",
    "\n",
    "@print_timing\n",
    "def example():\n",
    "    time.sleep(2)\n",
    "\n",
    "\n",
    "example()"
   ]
  },
  {
   "cell_type": "markdown",
   "metadata": {},
   "source": [
    "## The API\n",
    "\n",
    "For this example, we will use the [quotable.io](https://api.quotable.io) API. It's an online API you can use to generate a random cat fact.\n",
    "\n",
    "But feel free to replace `api_url` value with any API you'd like."
   ]
  },
  {
   "cell_type": "code",
   "execution_count": 2,
   "metadata": {},
   "outputs": [],
   "source": [
    "api_url = \"https://catfact.ninja/fact\""
   ]
  },
  {
   "cell_type": "markdown",
   "metadata": {},
   "source": [
    "## The \"classic\" way\n",
    "\n",
    "If you start playing with requests, your should probably have something like this:"
   ]
  },
  {
   "cell_type": "code",
   "execution_count": 3,
   "metadata": {},
   "outputs": [
    {
     "name": "stdout",
     "output_type": "stream",
     "text": [
      "The cat's front paw has 5 toes, but the back paws have 4. Some cats are born with as many as 7 front toes and extra back toes (polydactl).\n",
      "Cats lose almost as much fluid in the saliva while grooming themselves as they do through urination.\n",
      "Cats walk on their toes.\n",
      "A cat rubs against people not only to be affectionate but also to mark out its territory with scent glands around its face. The tail area and paws also carry the cat’s scent.\n",
      "In the original Italian version of Cinderella, the benevolent fairy godmother figure was a cat.\n",
      "Normal body temperature for a cat is 102 degrees F.\n",
      "In ancient Egypt, mummies were made of cats, and embalmed mice were placed with them in their tombs. In one ancient city, over 300,000 cat mummies were found.\n",
      "In one stride, a cheetah can cover 23 to 26 feet (7 to 8 meters).\n",
      "Cats have individual preferences for scratching surfaces and angles. Some are horizontal scratchers while others exercise their claws vertically.\n",
      "Every year, nearly four million cats are eaten in Asia.\n",
      "A cat will tremble or shiver when it is extreme pain.\n",
      "Cats bury their feces to cover their trails from predators.\n",
      "A cat can jump 5 times as high as it is tall.\n",
      "Female felines are \\superfecund\n",
      "The claws on the cat’s back paws aren’t as sharp as the claws on the front paws because the claws in the back don’t retract and, consequently, become worn.\n",
      "The cat appears to be the only domestic companion animal not mentioned in the Bible.\n",
      "Many Egyptians worshipped the goddess Bast, who had a woman’s body and a cat’s head.\n",
      "Ailurophile is the word cat lovers are officially called.\n",
      "After humans, mountain lions have the largest range of any mammal in the Western Hemisphere.\n",
      "A healthy cat has a temperature between 38 and 39 degrees Celcius.\n",
      "At 4 weeks, it is important to play with kittens so that they do not develope a fear of people.\n",
      "The group of words associated with cat (catt, cath, chat, katze) stem from the Latin catus, meaning domestic cat, as opposed to feles, or wild cat.\n",
      "The average lifespan of an outdoor-only cat is about 3 to 5 years while an indoor-only cat can live 16 years or much longer.\n",
      "In one stride, a cheetah can cover 23 to 26 feet (7 to 8 meters).\n",
      "Grown cats have 30 teeth. Kittens have about 26 temporary teeth, which they lose when they are about 6 months old.\n",
      "In 1888, more than 300,000 mummified cats were found an Egyptian cemetery. They were stripped of their wrappings and carted off to be used by farmers in England and the U.S. for fertilizer.\n",
      "A 2007 Gallup poll revealed that both men and women were equally likely to own a cat.\n",
      "Milk can give some cats diarrhea.\n",
      "The most traveled cat is Hamlet, who escaped from his carrier while on a flight. He hid for seven weeks behind a panel on the airplane. By the time he was discovered, he had traveled nearly 373,000 miles (600,000 km).\n",
      "A form of AIDS exists in cats.\n",
      "In one stride, a cheetah can cover 23 to 26 feet (7 to 8 meters).\n",
      "The world’s rarest coffee, Kopi Luwak, comes from Indonesia where a wildcat known as the luwak lives. The cat eats coffee berries and the coffee beans inside pass through the stomach. The beans are harvested from the cat’s dung heaps and then cleaned and roasted. Kopi Luwak sells for about $500 for a 450 g (1 lb) bag.\n",
      "A cat can spend five or more hours a day grooming himself.\n",
      "Like humans, cats tend to favor one paw over another\n",
      "The oldest cat on record was Crème Puff from Austin, Texas, who lived from 1967 to August 6, 2005, three days after her 38th birthday. A cat typically can live up to 20 years, which is equivalent to about 96 human years.\n",
      "Many cats love having their forehead gently stroked.\n",
      "A cat called Dusty has the known record for the most kittens. She had more than 420 kittens in her lifetime.\n",
      "Cat families usually play best in even numbers. Cats and kittens should be aquired in pairs whenever possible.\n",
      "Blue-eyed, white cats are often prone to deafness.\n",
      "Cats can be right-pawed or left-pawed.\n",
      "Tigers are excellent swimmers and do not avoid water.\n",
      "While it is commonly thought that the ancient Egyptians were the first to domesticate cats, the oldest known pet cat was recently found in a 9,500-year-old grave on the Mediterranean island of Cyprus. This grave predates early Egyptian art depicting cats by 4,000 years or more.\n",
      "Cats are the world's most popular pets, outnumbering dogs by as many as three to one\n",
      "Owning a cat is actually proven to be beneficial for your health.\n",
      "The first official cat show in the UK was organised at Crystal Palace in 1871.\n",
      "The earliest ancestor of the modern cat lived about 30 million years ago. Scientists called it the Proailurus, which means “first cat” in Greek. The group of animals that pet cats belong to emerged around 12 million years ago.\n",
      "After humans, mountain lions have the largest range of any mammal in the Western Hemisphere.\n",
      "Cats hate the water because their fur does not insulate well when it’s wet. The Turkish Van, however, is one cat that likes swimming. Bred in central Asia, its coat has a unique texture that makes it water resistant.\n",
      "A cat has more bones than a human; humans have 206, but the cat has 230 (some cites list 245 bones, and state that bones may fuse together as the cat ages).\n",
      "The biggest wildcat today is the Siberian Tiger. It can be more than 12 feet (3.6 m) long (about the size of a small car) and weigh up to 700 pounds (317 kg).\n",
      "basic_loop_request took 11.01 sec\n"
     ]
    }
   ],
   "source": [
    "import requests\n",
    "\n",
    "\n",
    "def basic_request(url: str):\n",
    "    response = requests.get(url)\n",
    "    response_json = response.json()\n",
    "    print(response_json[\"fact\"])\n",
    "\n",
    "\n",
    "@print_timing\n",
    "def basic_loop_request(url: str):\n",
    "    # Query 50 times the API\n",
    "    for _ in range(50):\n",
    "        basic_request(url)\n",
    "\n",
    "\n",
    "basic_loop_request(api_url)"
   ]
  },
  {
   "cell_type": "markdown",
   "metadata": {},
   "source": [
    "### Results\n",
    "\n",
    "On my machine it took **9.31 sec for 50 requests**. \n",
    "\n",
    "Pretty slow right? But why is that?\n",
    "\n",
    "Each time you make a request, your computer needs to create a new \"session\", format your request, send it and wait to receive the response before doing it again with the next request."
   ]
  },
  {
   "cell_type": "markdown",
   "metadata": {},
   "source": [
    "## The \"session\" way\n",
    "\n",
    "To speed this, we can use a **\"session\"** that will be share by all the requests.\n",
    "\n",
    "You can picture it as a postman that knows you already, so he knows which bell to ring, where is the mailbox,... Instead of having to search for those each time."
   ]
  },
  {
   "cell_type": "code",
   "execution_count": null,
   "metadata": {},
   "outputs": [],
   "source": [
    "#session的普通用法\n",
    "from requests import Session\n",
    "\n",
    "session = Session() #创造一个session object，并且在每次reach相同网址时call同一个这个session\n",
    "\n",
    "for _ in range(5):\n",
    "    response = session.get(\"xxx\") #注意，session instance不是必须同一个网址，它只是个客户端状态容器存储了TCP连接复用、身份验证等，一般而言同一个root网址就可以增加效率，不同root网址也能操作就是失去效率提高功能了\n",
    "    data = response.json()\n",
    "    print(data[\"fact\"])\n",
    "\n",
    "session.close() #记得要关闭，所以可以试着用with...语句使其自动关闭"
   ]
  },
  {
   "cell_type": "code",
   "execution_count": null,
   "metadata": {},
   "outputs": [
    {
     "name": "stdout",
     "output_type": "stream",
     "text": [
      "Cats are subject to gum disease and to dental caries. They should have their teeth cleaned by the vet or the cat dentist once a year.\n",
      "Not every cat gets \\high\\\" from catnip. Whether or not a cat responds to it depends upon a recessive gene: no gene\"\n",
      "Cat paws act as tempetature regulators, shock absorbers, hunting and grooming tools, sensors, and more\n",
      "Cats have 3 eyelids.\n",
      "The oldest cat on record was Crème Puff from Austin, Texas, who lived from 1967 to August 6, 2005, three days after her 38th birthday. A cat typically can live up to 20 years, which is equivalent to about 96 human years.\n",
      "The ancestor of all domestic cats is the African Wild Cat which still exists today.\n",
      "Miacis, the primitive ancestor of cats, was a small, tree-living creature of the late Eocene period, some 45 to 50 million years ago.\n",
      "The cheetah is the world's fastest land mammal. It can run at speeds of up to 70 miles an hour (113 kilometers an hour).\n",
      "A cat can travel at a top speed of approximately 31 mph (49 km) over a short distance.\n",
      "Female felines are \\superfecund\n",
      "A female cat will be pregnant for approximately 9 weeks or between 62 and 65 days from conception to delivery.\n",
      "Cats have individual preferences for scratching surfaces and angles. Some are horizontal scratchers while others exercise their claws vertically.\n",
      "Purring does not always indicate that a cat is happy. Cats will also purr loudly when they are distressed or in pain.\n",
      "Two members of the cat family are distinct from all others: the clouded leopard and the cheetah. The clouded leopard does not roar like other big cats, nor does it groom or rest like small cats. The cheetah is unique because it is a running cat; all others are leaping cats. They are leaping cats because they slowly stalk their prey and then leap on it.\n",
      "Cats' hearing is much more sensitive than humans and dogs.\n",
      "The world’s rarest coffee, Kopi Luwak, comes from Indonesia where a wildcat known as the luwak lives. The cat eats coffee berries and the coffee beans inside pass through the stomach. The beans are harvested from the cat’s dung heaps and then cleaned and roasted. Kopi Luwak sells for about $500 for a 450 g (1 lb) bag.\n",
      "Tabby cats are thought to get their name from Attab, a district in Baghdad, now the capital of Iraq.\n",
      "Some common houseplants poisonous to cats include: English Ivy, iris, mistletoe, philodendron, and yew.\n",
      "Cats do not think that they are little people. They think that we are big cats. This influences their behavior in many ways.\n",
      "A cat lover is called an Ailurophilia (Greek: cat+lover).\n",
      "The first official cat show in the UK was organised at Crystal Palace in 1871.\n",
      "Female cats tend to be right pawed, while male cats are more often left pawed. Interestingly, while 90% of humans are right handed, the remaining 10% of lefties also tend to be male.\n",
      "Jaguars are the only big cats that don't roar.\n",
      "The largest breed of cat is the Ragdoll with males weighing in at 1 5 to 20 lbs. The heaviest domestic cat on record was a neutered male tabby named Himmy from Queensland, Australia who weighed 46 lbs. 1 5 oz.\n",
      " A cat only has the ability to move their jaw up and down, not side to side like a human can.\n",
      "A cat's field of vision is about 200 degrees.\n",
      "The term “puss” is the root of the principal word for “cat” in the Romanian term pisica and the root of secondary words in Lithuanian (puz) and Low German puus. Some scholars suggest that “puss” could be imitative of the hissing sound used to get a cat’s attention. As a slang word for the female pudenda, it could be associated with the connotation of a cat being soft, warm, and fuzzy.\n",
      "Many cats cannot properly digest cow's milk. Milk and milk products give them diarrhea.\n",
      "Cats take between 20-40 breaths per minute.\n",
      "A cat has 230 bones in its body. A human has 206. A cat has no collarbone, so it can fit through any opening the size of its head.\n",
      "Some Siamese cats appear cross-eyed because the nerves from the left side of the brain go to mostly the right eye and the nerves from the right side of the brain go mostly to the left eye. This causes some double vision, which the cat tries to correct by “crossing” its eyes.\n",
      "Researchers are unsure exactly how a cat purrs. Most veterinarians believe that a cat purrs by vibrating vocal folds deep in the throat. To do this, a muscle in the larynx opens and closes the air passage about 25 times per second.\n",
      "Cats dislike citrus scent.\n",
      "A cats field of vision is about 185 degrees.\n",
      "Mohammed loved cats and reportedly his favorite cat, Muezza, was a tabby. Legend says that tabby cats have an “M” for Mohammed on top of their heads because Mohammad would often rest his hand on the cat’s head.\n",
      "Some Siamese cats appear cross-eyed because the nerves from the left side of the brain go to mostly the right eye and the nerves from the right side of the brain go mostly to the left eye. This causes some double vision, which the cat tries to correct by “crossing” its eyes.\n",
      "A cat uses its whiskers for measuring distances.  The whiskers of a cat are capable of registering very small changes in air pressure.\n",
      "Cats are subject to gum disease and to dental caries. They should have their teeth cleaned by the vet or the cat dentist once a year.\n",
      "Normal body temperature for a cat is 102 degrees F.\n",
      "Neutering a cat extends its life span by two or three years.\n",
      "A cat has more bones than a human; humans have 206, but the cat has 230 (some cites list 245 bones, and state that bones may fuse together as the cat ages).\n",
      "The Maine Coon cat is America's only natural breed of domestic feline. It is 4 to 5 times larger than the Singapura, the smallest breed of cat.\n",
      "A cat’s eyesight is both better and worse than humans. It is better because cats can see in much dimmer light and they have a wider peripheral view. It’s worse because they don’t see color as well as humans do. Scientists believe grass appears red to cats.\n",
      "A cat's nose is as unique as a human's fingerprint.\n",
      "A cat has the power to sometimes heal themselves by purring. A domestic cat's purr has a frequency of between 25 and 150 Hertz, which happens to be the frequency at which muscles and bones best grow and repair themselves. \n",
      "A cat’s heart beats nearly twice as fast as a human heart, at 110 to 140 beats a minute.\n",
      "A cat can spend five or more hours a day grooming himself.\n",
      "A cat has the ability to rotate their ears 180 degrees,with the help of 32 muscles that they use to control them.\n",
      "Contrary to popular belief, the cat is a social animal. A pet cat will respond and answer to speech , and seems to enjoy human companionship.\n",
      "Cats lived with soldiers in trenches, where they killed mice during World War I.\n",
      "session_loop_request took 7.94 sec\n"
     ]
    }
   ],
   "source": [
    "from requests import Session\n",
    "\n",
    "\n",
    "def session_request(url: str, session: Session): #注意，这里的session: Session只是注释哦，表明这里第二个传入的参数应该是Session类型（就像第一个参数url是一个str类型！）\n",
    "    # Instead of using request.get, we use our session\n",
    "    response = session.get(url)\n",
    "    response_json = response.json()\n",
    "    print(response_json[\"fact\"])\n",
    "\n",
    "\n",
    "@print_timing\n",
    "def session_loop_request(url: str):\n",
    "    # Create shared session for all of your requests\n",
    "    with Session() as session: #注意！session实例是在这里创建的！\n",
    "        # Query 50 times the API\n",
    "        for _ in range(50):\n",
    "            session_request(url, session)\n",
    "\n",
    "\n",
    "session_loop_request(api_url)"
   ]
  },
  {
   "cell_type": "markdown",
   "metadata": {},
   "source": [
    "### Results\n",
    "\n",
    "It took me **6.19 sec for 50 requests**. That's better!\n",
    "\n",
    "And as you can see, I didn't change that much in the code."
   ]
  },
  {
   "cell_type": "markdown",
   "metadata": {},
   "source": [
    "## The \"Async\" way\n",
    "\n",
    "If you need even more performances, you will need to use [AsyncIo](https://docs.python.org/3/library/asyncio.html).\n",
    "\n",
    "This is a library to allow you to run asynchronous code.\n",
    "\n",
    "Why is that more efficiant? Well, when you send a request you need to wait for the response. And during the waiting time, our computer does nothing.\n",
    "If you count all the time the computer is just \"waiting\" on 50 or more requests, you will be surprised to see that most of the computing time is just waiting for the server to respond.\n",
    "\n",
    "[AsyncIo](https://docs.python.org/3/library/asyncio.html) allow you to bypass that.\n",
    "\n",
    "But as always, it has a cost: complexity.\n",
    "\n",
    "Making your code async will complixify the code a lot and make the debugging not a pleasant experience. Also, you will go so fast that you could be banned by the server.\n",
    "\n",
    "My advice? Use it only if you need it.\n",
    "\n",
    "I will show you a simple example but you want to understand it better, I really advice you **[this video](https://www.youtube.com/watch?v=qAh5dDODJ5k)**!\n",
    "\n",
    "### Requirements\n",
    "In order to simplify a bit the code, I will use [httpx](https://www.python-httpx.org/) a python library that is working the same way as the `requests` module but with few helpers for async."
   ]
  },
  {
   "cell_type": "code",
   "execution_count": 5,
   "metadata": {},
   "outputs": [
    {
     "name": "stdout",
     "output_type": "stream",
     "text": [
      "Collecting httpx\n",
      "  Using cached httpx-0.28.1-py3-none-any.whl.metadata (7.1 kB)\n",
      "Collecting anyio (from httpx)\n",
      "  Using cached anyio-4.9.0-py3-none-any.whl.metadata (4.7 kB)\n",
      "Requirement already satisfied: certifi in c:\\users\\yinmi\\onedrive\\桌面\\lgg-thomas5\\env\\lib\\site-packages (from httpx) (2025.1.31)\n",
      "Collecting httpcore==1.* (from httpx)\n",
      "  Using cached httpcore-1.0.7-py3-none-any.whl.metadata (21 kB)\n",
      "Requirement already satisfied: idna in c:\\users\\yinmi\\onedrive\\桌面\\lgg-thomas5\\env\\lib\\site-packages (from httpx) (3.10)\n",
      "Collecting h11<0.15,>=0.13 (from httpcore==1.*->httpx)\n",
      "  Using cached h11-0.14.0-py3-none-any.whl.metadata (8.2 kB)\n",
      "Collecting sniffio>=1.1 (from anyio->httpx)\n",
      "  Using cached sniffio-1.3.1-py3-none-any.whl.metadata (3.9 kB)\n",
      "Using cached httpx-0.28.1-py3-none-any.whl (73 kB)\n",
      "Using cached httpcore-1.0.7-py3-none-any.whl (78 kB)\n",
      "Using cached anyio-4.9.0-py3-none-any.whl (100 kB)\n",
      "Using cached h11-0.14.0-py3-none-any.whl (58 kB)\n",
      "Using cached sniffio-1.3.1-py3-none-any.whl (10 kB)\n",
      "Installing collected packages: sniffio, h11, httpcore, anyio, httpx\n",
      "Successfully installed anyio-4.9.0 h11-0.14.0 httpcore-1.0.7 httpx-0.28.1 sniffio-1.3.1\n"
     ]
    }
   ],
   "source": [
    "!pip install httpx"
   ]
  },
  {
   "cell_type": "markdown",
   "metadata": {},
   "source": [
    "### Warning!\n",
    "This code won't work in jupyter notebook, there are subtilities for async in jupyter notebook. See [this thread](https://stackoverflow.com/questions/47518874/how-do-i-run-python-asyncio-code-in-a-jupyter-notebook) for more informations.\n",
    "\n",
    "To make it simpler, I will put this code in a .py file and run it in command line:"
   ]
  },
  {
   "cell_type": "markdown",
   "metadata": {},
   "source": [
    "python '''\n",
    "from httpx import AsyncClient\n",
    "import asyncio\n",
    "import time\n",
    "\n",
    "\n",
    "api_url = \"https://catfact.ninja/fact\"\n",
    "\n",
    "\n",
    "async def session_request_async(url: str, session: AsyncClient):\n",
    "    # Instead of using request.get, we use our session\n",
    "    response = await session.get(url)\n",
    "    response_json = response.json()\n",
    "    print(response_json[\"fact\"])\n",
    "    return response_json\n",
    "\n",
    "\n",
    "async def session_loop_request_async(url: str):\n",
    "    # Create shared session for all of your requests\n",
    "    async with AsyncClient() as session:\n",
    "        # Create a list of empty tasks\n",
    "        tasks = []\n",
    "        # Query 50 times the API\n",
    "        for _ in range(50):\n",
    "            # Add a request to tasks\n",
    "            tasks.append(\n",
    "                asyncio.create_task(\n",
    "                    session_request_async(url, session)        \n",
    "                )\n",
    "            )\n",
    "        # Now that all the tasks are registred, run them\n",
    "        responses = await asyncio.gather(*tasks)\n",
    "            \n",
    "            \n",
    "\n",
    "\n",
    "start = time.perf_counter()\n",
    "\n",
    "# We need to use asyncio.run to run the async function\n",
    "asyncio.run(session_loop_request_async(api_url))\n",
    "\n",
    "end = time.perf_counter()\n",
    "execution_time = round((end - start), 2)\n",
    "print(f'session_loop_request_async took {execution_time} sec')\n",
    "'''\n"
   ]
  },
  {
   "cell_type": "code",
   "execution_count": 6,
   "metadata": {},
   "outputs": [
    {
     "name": "stdout",
     "output_type": "stream",
     "text": [
      "The claws on the cat’s back paws aren’t as sharp as the claws on the front paws because the claws in the back don’t retract and, consequently, become worn.\n",
      "Two members of the cat family are distinct from all others: the clouded leopard and the cheetah. The clouded leopard does not roar like other big cats, nor does it groom or rest like small cats. The cheetah is unique because it is a running cat; all others are leaping cats. They are leaping cats because they slowly stalk their prey and then leap on it.\n",
      "Cats are the world's most popular pets, outnumbering dogs by as many as three to one\n",
      "Unlike humans, cats cannot detect sweetness which likely explains why they are not drawn to it at all.\n",
      "Unlike dogs, cats do not have a sweet tooth. Scientists believe this is due to a mutation in a key taste receptor.\n",
      "In multi-cat households, cats of the opposite sex usually get along better.\n",
      "Cats are now Britain's favourite pet: there are 7.7 million cats as opposed to 6.6 million dogs.\n",
      "The group of words associated with cat (catt, cath, chat, katze) stem from the Latin catus, meaning domestic cat, as opposed to feles, or wild cat.\n",
      "Unlike dogs, cats do not have a sweet tooth. Scientists believe this is due to a mutation in a key taste receptor.\n",
      "In multi-cat households, cats of the opposite sex usually get along better.\n",
      "It may take as long as 2 weeks for a kitten to be able to hear well.  Their eyes usually open between 7 and 10 days, but sometimes it happens in as little as 2 days.\n",
      "While many cats enjoy milk, it will give some cats diarrhea.\n",
      "The first true cats came into existence about 12 million years ago and were the Proailurus.\n",
      "The technical term for a cat’s hairball is a “bezoar.”\n",
      "A commemorative tower was built in Scotland for a cat named Towser, who caught nearly 30,000 mice in her lifetime.\n",
      "Cats are extremely sensitive to vibrations. Cats are said to detect earthquake tremors 10 or 15 minutes before humans can.\n",
      "The Maine Coon cat is America's only natural breed of domestic feline. It is 4 to 5 times larger than the Singapura, the smallest breed of cat.\n",
      "Cat's urine glows under a black light.\n",
      "Foods that should not be given to cats include onions, garlic, green tomatoes, raw potatoes, chocolate, grapes, and raisins. Though milk is not toxic, it can cause an upset stomach and gas. Tylenol and aspirin are extremely toxic to cats, as are many common houseplants. Feeding cats dog food or canned tuna that’s for human consumption can cause malnutrition.\n",
      "A queen (female cat) can begin mating when she is between 5 and 9 months old.\n",
      "Neutering a male cat will, in almost all cases, stop him from spraying (territorial marking), fighting with other males (at least over females), as well as lengthen his life and improve its quality.\n",
      "Cats don’t have sweat glands over their bodies like humans do. Instead, they sweat only through their paws.\n",
      "Cats spend nearly 1/3 of their waking hours cleaning themselves.\n",
      "A cat sees about 6 times better than a human at night, and needs 1/6 the amount of of light that a human does - it has a layer of extra reflecting cells which absorb light.\n",
      "A cat's normal pulse is 140-240 beats per minute, with an average of 195.\n",
      "Female felines are \\superfecund\n",
      "A cat has more bones than a human being; humans have 206 and the cat has 230 bones.\n",
      "Cats are the world's most popular pets, outnumbering dogs by as many as three to one\n",
      "Smuggling a cat out of ancient Egypt was punishable by death. Phoenician traders eventually succeeded in smuggling felines, which they sold to rich people in Athens and other important cities.\n",
      "The first commercially cloned pet was a cat named \"Little Nicky.\" He cost his owner $50,000, making him one of the most expensive cats ever.\n",
      "You check your cats pulse on the inside of the back thigh, where the leg joins to the body. Normal for cats: 110-170 beats per minute.\n",
      "Researchers believe the word “tabby” comes from Attabiyah, a neighborhood in Baghdad, Iraq. Tabbies got their name because their striped coats resembled the famous wavy patterns in the silk produced in this city.\n",
      "One reason that kittens sleep so much is because a growth hormone is released only during sleep.\n",
      "Cats control the outer ear using 32 muscles; humans use 6\n",
      "A tomcat (male cat) can begin mating when he is between 7 and 10 months old.\n",
      "Cats have about 130,000 hairs per square inch (20,155 hairs per square centimeter).\n",
      "In relation to their body size, cats have the largest eyes of any mammal.\n",
      "It has been scientifically proven that owning cats is good for our health and can decrease the occurrence of high blood pressure and other illnesses.\n",
      "Cat families usually play best in even numbers. Cats and kittens should be aquired in pairs whenever possible.\n",
      "When a domestic cat goes after mice, about 1 pounce in 3 results in a catch.\n",
      "A cat will tremble or shiver when it is extreme pain.\n",
      "The cat appears to be the only domestic companion animal not mentioned in the Bible.\n",
      "The group of words associated with cat (catt, cath, chat, katze) stem from the Latin catus, meaning domestic cat, as opposed to feles, or wild cat.\n",
      "While it is commonly thought that the ancient Egyptians were the first to domesticate cats, the oldest known pet cat was recently found in a 9,500-year-old grave on the Mediterranean island of Cyprus. This grave predates early Egyptian art depicting cats by 4,000 years or more.\n",
      "Cats sleep 16 to 18 hours per day. When cats are asleep, they are still alert to incoming stimuli. If you poke the tail of a sleeping cat, it will respond accordingly.\n",
      "A cat will tremble or shiver when it is extreme pain.\n",
      "A cat's hearing is much more sensitive than humans and dogs.\n",
      "Cats are extremely sensitive to vibrations. Cats are said to detect earthquake tremors 10 or 15 minutes before humans can.\n",
      "Cats have 3 eyelids.\n",
      "Cats are extremely sensitive to vibrations. Cats are said to detect earthquake tremors 10 or 15 minutes before humans can.\n",
      "session_loop_request_async took 1.54 sec\n"
     ]
    }
   ],
   "source": [
    "!python ./assets/async_requests.py"
   ]
  },
  {
   "cell_type": "markdown",
   "metadata": {},
   "source": [
    "### Results\n",
    "It only took me **0.8 sec for 50 requests**! That's impressive.\n",
    "\n",
    "But as you can see, it is harder to write, structure and debug. So make sure you **really** need it if you consider using this method."
   ]
  },
  {
   "cell_type": "markdown",
   "metadata": {},
   "source": [
    "## Summary\n",
    "\n",
    "If we gather all our results:\n",
    "\n",
    "| Method                     | Execution time for 50 requests |\n",
    "|----------------------------|--------------------------------|\n",
    "| `requests.get` loop        | 9.31 sec                  |\n",
    "| `requests` with `Session`  | 5.99 sec                   |\n",
    "| `httpx` with `AsyncClient` | 0.8 sec                   |"
   ]
  }
 ],
 "metadata": {
  "kernelspec": {
   "display_name": "env",
   "language": "python",
   "name": "python3"
  },
  "language_info": {
   "codemirror_mode": {
    "name": "ipython",
    "version": 3
   },
   "file_extension": ".py",
   "mimetype": "text/x-python",
   "name": "python",
   "nbconvert_exporter": "python",
   "pygments_lexer": "ipython3",
   "version": "3.13.2"
  },
  "orig_nbformat": 4
 },
 "nbformat": 4,
 "nbformat_minor": 2
}
