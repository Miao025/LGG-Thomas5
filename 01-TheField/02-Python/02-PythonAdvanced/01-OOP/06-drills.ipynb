{
 "cells": [
  {
   "cell_type": "markdown",
   "metadata": {},
   "source": [
    "### Best Practices for OOP in Python\n",
    "\n",
    "- Follow the Single Responsibility Principle: Each class should have one primary responsibility.\n",
    "- Use meaningful names for classes, methods, and attributes.\n",
    "- Implement encapsulation using private attributes (with double underscores) and properties.\n",
    "- Favor composition over inheritance when appropriate.\n",
    "- Use method overriding to implement polymorphism effectively.\n",
    "- Keep your classes small and focused.\n",
    "- Use docstrings to document your classes and methods.\n"
   ]
  },
  {
   "cell_type": "markdown",
   "metadata": {},
   "source": [
    "### Testing OOP Code\n",
    "Testing OOP code in Python typically involves unit testing individual classes and their methods. Here are some best practices:\n",
    "\n",
    "- Use the unittest module for creating and running tests.\n",
    "- Create separate test classes for each of your classes.\n",
    "- Test both positive and negative scenarios.\n",
    "- Use mock objects to isolate the class under test from its dependencies.\n",
    "\n",
    "Example of a simple unit test: "
   ]
  },
  {
   "cell_type": "code",
   "execution_count": 92,
   "metadata": {},
   "outputs": [
    {
     "name": "stderr",
     "output_type": "stream",
     "text": [
      "test_area (__main__.TestCircle.test_area) ... ok\n",
      "\n",
      "----------------------------------------------------------------------\n",
      "Ran 1 test in 0.002s\n",
      "\n",
      "OK\n"
     ]
    },
    {
     "name": "stdout",
     "output_type": "stream",
     "text": [
      "78.5\n"
     ]
    },
    {
     "data": {
      "text/plain": [
       "<unittest.main.TestProgram at 0x1f6db0d2140>"
      ]
     },
     "execution_count": 92,
     "metadata": {},
     "output_type": "execute_result"
    }
   ],
   "source": [
    "import unittest\n",
    "from math import pi\n",
    "\n",
    "class Circle:\n",
    "    def __init__(self, radius):\n",
    "        self.radius = radius\n",
    "        self.compute_area()\n",
    "\n",
    "    def compute_area(self):\n",
    "        self.area = round(pi * self.radius ** 2, 1)\n",
    "\n",
    "\n",
    "class TestCircle(unittest.TestCase):\n",
    "    def setUp(self):\n",
    "        self.circle = Circle(5)\n",
    "\n",
    "    def test_area(self):\n",
    "        print(self.circle.area)\n",
    "        self.assertAlmostEqual(self.circle.area, 78.5, places=1)\n",
    "\n",
    "unittest.main(argv=[''], verbosity=2, exit=False)\n"
   ]
  },
  {
   "cell_type": "markdown",
   "metadata": {},
   "source": [
    "For more complex scenarios, consider using testing frameworks like pytest, which offer additional features and a more intuitive syntax for writing and organizing tests. By following these practices and understanding these concepts, you can write more robust, maintainable, and testable OOP code in Python."
   ]
  },
  {
   "cell_type": "markdown",
   "metadata": {},
   "source": [
    "##### Exercise 1: Basic Class Creation\n",
    "Create a class called Car with the following attributes:\n",
    "\n",
    "    make\n",
    "    model\n",
    "    year\n",
    "    color\n",
    "\n",
    "Add a method called display_info() that prints out all the car's information. "
   ]
  },
  {
   "cell_type": "code",
   "execution_count": 93,
   "metadata": {},
   "outputs": [
    {
     "name": "stdout",
     "output_type": "stream",
     "text": [
      "This Blue Corolla is made by Toyota in 2022\n"
     ]
    }
   ],
   "source": [
    "class Car:\n",
    "    def __init__(self, make, model, year, color):\n",
    "        self.make = make\n",
    "        self.model = model\n",
    "        self.year = year\n",
    "        self.color = color\n",
    "\n",
    "    def display_info(self):\n",
    "        # Implement this method\n",
    "        print(f'This {self.color} {self.model} is made by {self.make} in {self.year}')\n",
    "\n",
    "# Test your class\n",
    "my_car = Car(\"Toyota\", \"Corolla\", 2022, \"Blue\")\n",
    "my_car.display_info()\n"
   ]
  },
  {
   "cell_type": "markdown",
   "metadata": {},
   "source": [
    "#### Exercise 2: Inheritance\n",
    "Create a base class called Animal with attributes name and species. Then create two subclasses, Dog and Cat, that inherit from Animal. Add a method make_sound() to each subclass that prints a specific sound for that animal. "
   ]
  },
  {
   "cell_type": "code",
   "execution_count": 94,
   "metadata": {},
   "outputs": [
    {
     "name": "stdout",
     "output_type": "stream",
     "text": [
      "This Canine dog Buddy sounds like Wang Wang\n",
      "This Feline dog Whiskers sounds like Meow Meow\n"
     ]
    }
   ],
   "source": [
    "class Animal:\n",
    "    def __init__(self, name, species):\n",
    "        self.name = name\n",
    "        self.species = species\n",
    "\n",
    "class Dog(Animal):\n",
    "    def make_sound(self):\n",
    "        print(f'This {self.species} dog {self.name} sounds like Wang Wang')\n",
    "\n",
    "class Cat(Animal):\n",
    "    def make_sound(self):\n",
    "        print(f'This {self.species} dog {self.name} sounds like Meow Meow')\n",
    "\n",
    "# Test your classes\n",
    "dog = Dog(\"Buddy\", \"Canine\")\n",
    "cat = Cat(\"Whiskers\", \"Feline\")\n",
    "dog.make_sound()\n",
    "cat.make_sound()\n"
   ]
  },
  {
   "cell_type": "markdown",
   "metadata": {},
   "source": [
    "#### Exercise 3: Encapsulation\n",
    "Create a class called BankAccount with private attributes for balance and account_number. Implement methods for depositing, withdrawing, and checking the balance. Ensure that the balance cannot be accessed directly from outside the class. "
   ]
  },
  {
   "cell_type": "code",
   "execution_count": 95,
   "metadata": {},
   "outputs": [
    {
     "name": "stdout",
     "output_type": "stream",
     "text": [
      "1300\n"
     ]
    }
   ],
   "source": [
    "class BankAccount:\n",
    "    def __init__(self, account_number, initial_balance):\n",
    "        self.__account_number = account_number\n",
    "        self.__balance = initial_balance\n",
    "\n",
    "    def deposit(self, amount):\n",
    "        self.__balance += amount\n",
    "\n",
    "    def withdraw(self, amount):\n",
    "        self.__balance -= amount\n",
    "\n",
    "    def get_balance(self):\n",
    "        return self.__balance\n",
    "\n",
    "# Test your class\n",
    "account = BankAccount(\"123456\", 1000)\n",
    "account.deposit(500)\n",
    "account.withdraw(200)\n",
    "print(account.get_balance())\n"
   ]
  },
  {
   "cell_type": "markdown",
   "metadata": {},
   "source": [
    "#### Exercise 4: Polymorphism\n",
    "Create a base class called Shape with a method area(). Then create subclasses for Circle, Rectangle, and Triangle. Implement the area() method differently for each subclass. Create a list of different shapes and calculate their areas using a single loop. "
   ]
  },
  {
   "cell_type": "code",
   "execution_count": 96,
   "metadata": {},
   "outputs": [
    {
     "name": "stdout",
     "output_type": "stream",
     "text": [
      "Area: 78.53981633974483\n",
      "Area: 24\n",
      "Area: 6.0\n"
     ]
    }
   ],
   "source": [
    "import math\n",
    "\n",
    "class Shape:\n",
    "    def area(self):\n",
    "        pass\n",
    "\n",
    "class Circle(Shape):\n",
    "    def __init__(self, radius):\n",
    "        self.radius = radius\n",
    "\n",
    "    def area(self):\n",
    "        return math.pi*self.radius**2\n",
    "\n",
    "class Rectangle(Shape):\n",
    "    def __init__(self, width, height):\n",
    "        self.width = width\n",
    "        self.height = height\n",
    "\n",
    "    def area(self):\n",
    "        return self.width*self.height\n",
    "\n",
    "class Triangle(Shape):\n",
    "    def __init__(self, base, height):\n",
    "        self.base = base\n",
    "        self.height = height\n",
    "\n",
    "    def area(self):\n",
    "        return self.base*self.height/2\n",
    "\n",
    "# Test your classes\n",
    "shapes = [Circle(5), Rectangle(4, 6), Triangle(3, 4)]\n",
    "for shape in shapes:\n",
    "    print(f\"Area: {shape.area()}\")\n"
   ]
  },
  {
   "cell_type": "markdown",
   "metadata": {},
   "source": [
    "#### Exercise 5: Class Methods and Static Methods\n",
    "Create a class called MathOperations with:\n",
    "\n",
    "    A static method add(x, y) that returns the sum of two numbers\n",
    "    A class method multiply(cls, x, y) that returns the product of two numbers\n",
    "    A regular method divide(self, x, y) that returns the division of two numbers\n"
   ]
  },
  {
   "cell_type": "code",
   "execution_count": 97,
   "metadata": {},
   "outputs": [
    {
     "name": "stdout",
     "output_type": "stream",
     "text": [
      "8\n",
      "10\n",
      "8\n",
      "10\n",
      "5.0\n"
     ]
    }
   ],
   "source": [
    "class MathOperations:\n",
    "\n",
    "    @staticmethod\n",
    "    def add(x, y):\n",
    "        return x+y\n",
    "    '''\n",
    "    Can be called on the class directly (MathOperations.add()) or on an instance (math_ops.add()).\n",
    "    Behaves like a regular function but lives in the class namespace.\n",
    "    No access to instance or class data.\n",
    "    '''\n",
    "    \n",
    "    @classmethod\n",
    "    def multiply(cls, x, y):\n",
    "        return x*y\n",
    "    '''\n",
    "    Receives the class (cls) as first argument.\n",
    "    Can be called on the class (MathOperations.multiply()) or on an instance (math_ops.multiply()).\n",
    "    Can access/modify class-level data if needed.\n",
    "    '''\n",
    "\n",
    "    def divide(self, x, y):\n",
    "        return x/y\n",
    "    '''\n",
    "    Receives the instance (self) as first argument.\n",
    "    Must be called on an instance (math_ops.divide()).\n",
    "    Can access/modify instance-specific data (though not used here).\n",
    "    '''\n",
    "\n",
    "# Test your class\n",
    "print(MathOperations.add(5, 3))\n",
    "print(MathOperations.multiply(5, 2))\n",
    "math_ops = MathOperations()\n",
    "print(math_ops.add(5, 3))\n",
    "print(math_ops.multiply(5, 2))\n",
    "print(math_ops.divide(10, 2))\n"
   ]
  },
  {
   "cell_type": "markdown",
   "metadata": {},
   "source": [
    "#### Exercise 6: Property Decorators\n",
    "Create a class called Temperature with a private attribute _celsius. Implement getter and setter methods using the @property and @temperature.setter decorators. The setter should also update a fahrenheit attribute automatically. "
   ]
  },
  {
   "cell_type": "code",
   "execution_count": 98,
   "metadata": {},
   "outputs": [
    {
     "name": "stdout",
     "output_type": "stream",
     "text": [
      "Celsius: 25\n",
      "Fahrenheit: 77.0\n",
      "New Fahrenheit: 86.0\n"
     ]
    }
   ],
   "source": [
    "class Temperature:\n",
    "    def __init__(self, celsius):\n",
    "        self.__celsius = celsius\n",
    "\n",
    "    @property\n",
    "    def celsius(self):\n",
    "        return self.__celsius\n",
    "\n",
    "    @celsius.setter\n",
    "    def celsius(self, value):\n",
    "        self.__celsius = value \n",
    "\n",
    "    @property\n",
    "    def fahrenheit(self):\n",
    "        return self.__celsius*1.8+32\n",
    "\n",
    "'''\n",
    "You must define a getter before you define its setter.\n",
    "Basically, you write methods as normal, but getter allows you to call it like a attribute,\n",
    "and setter allows you to assign value to this attribute.\n",
    "e.g., in our example, you can write get_celsius() and set_celsius() methods and call them like temp1.get_celsius() and temp1.set_celsius(),\n",
    "but with a getter&setter you can package them in one celsius() method which is written as normal function and must be called like attribute:\n",
    "For getter, you call it as temp1.celsius;\n",
    "For setter, you assign value to it as temp1.celsius = xx.\n",
    "The advantage is that, you can define more tricks in getter&setter so that it can maybe print something else when you call temp1.celsius\n",
    "if you define print(xx) in getter, and you can set the pre-conditions of the value each time you wanna give to object temp1,\n",
    "if you write if...else... or try...except... in setter.\n",
    "'''\n",
    "\n",
    "# Test your class\n",
    "temp = Temperature(25)\n",
    "print(f\"Celsius: {temp.celsius}\")\n",
    "print(f\"Fahrenheit: {temp.fahrenheit}\")\n",
    "temp.celsius = 30\n",
    "print(f\"New Fahrenheit: {temp.fahrenheit}\")"
   ]
  },
  {
   "cell_type": "markdown",
   "metadata": {},
   "source": [
    "#### Exercise 7: Abstract Base Classes\n",
    "Import the abc module and create an abstract base class called Vehicle with abstract methods start_engine() and stop_engine(). Then create concrete classes Car and Motorcycle that inherit from Vehicle and implement these methods. "
   ]
  },
  {
   "cell_type": "code",
   "execution_count": 99,
   "metadata": {},
   "outputs": [],
   "source": [
    "from abc import ABC, abstractmethod\n",
    "\n",
    "class Vehicle(ABC):\n",
    "    @abstractmethod\n",
    "    def start_engine(self):\n",
    "        pass\n",
    "\n",
    "    @abstractmethod\n",
    "    def stop_engine(self):\n",
    "        pass\n",
    "\n",
    "class Car(Vehicle):\n",
    "    def start_engine(self):\n",
    "        # Implement this method\n",
    "        pass\n",
    "\n",
    "    def stop_engine(self):\n",
    "        # Implement this method\n",
    "        pass\n",
    "\n",
    "class Motorcycle(Vehicle):\n",
    "    def start_engine(self):\n",
    "        # Implement this method\n",
    "        pass\n",
    "\n",
    "    def stop_engine(self):\n",
    "        # Implement this method\n",
    "        pass\n",
    "\n",
    "# Test your classes\n",
    "car = Car()\n",
    "motorcycle = Motorcycle()\n",
    "car.start_engine()\n",
    "motorcycle.stop_engine()\n"
   ]
  },
  {
   "cell_type": "markdown",
   "metadata": {},
   "source": [
    "#### Exercise 8: Multiple Inheritance\n",
    "Create three classes: Flying, Swimming, and Running, each with a method describing their respective action. Then create a class called Duck that inherits from all three classes and implements all their methods. "
   ]
  },
  {
   "cell_type": "code",
   "execution_count": 100,
   "metadata": {},
   "outputs": [
    {
     "name": "stdout",
     "output_type": "stream",
     "text": [
      "fly\n",
      "swim\n",
      "running\n"
     ]
    }
   ],
   "source": [
    "class Flying:\n",
    "    def fly(self):\n",
    "        print ('fly')\n",
    "\n",
    "class Swimming:\n",
    "    def swim(self):\n",
    "        print ('swim')\n",
    "\n",
    "class Running:\n",
    "    def run(self):\n",
    "        print ('running')\n",
    "\n",
    "class Duck(Flying, Swimming, Running):\n",
    "    pass\n",
    "\n",
    "# Test your class\n",
    "duck = Duck()\n",
    "duck.fly()\n",
    "duck.swim()\n",
    "duck.run()"
   ]
  },
  {
   "cell_type": "markdown",
   "metadata": {},
   "source": [
    "#### Exercise 9: Method Overriding and Super()\n",
    "Create a base class called Employee with attributes name and salary, and a method calculate_bonus(). Create a subclass Manager that overrides the calculate_bonus() method but also calls the parent class method using super(). "
   ]
  },
  {
   "cell_type": "code",
   "execution_count": 101,
   "metadata": {},
   "outputs": [
    {
     "name": "stdout",
     "output_type": "stream",
     "text": [
      "Employee bonus: 5000.0\n",
      "Manager bonus: 8000.0\n"
     ]
    }
   ],
   "source": [
    "class Employee:\n",
    "    def __init__(self, name, salary):\n",
    "        self.name = name\n",
    "        self.salary = salary\n",
    "\n",
    "    def calculate_bonus(self):\n",
    "        return self.salary * 0.1\n",
    "\n",
    "class Manager(Employee): \n",
    "    ''''\n",
    "    If a subclass doesn't init explicitly, it will use the parent class's init automately.\n",
    "    So here we can create object1 = Manager(name1, salary1) as we use Employee()\n",
    "    '''\n",
    "    def calculate_bonus(self):\n",
    "        return super().calculate_bonus()\n",
    "\n",
    "# Test your classes\n",
    "employee = Employee(\"John Doe\", 50000)\n",
    "manager = Manager(\"Jane Smith\", 80000)\n",
    "print(f\"Employee bonus: {employee.calculate_bonus()}\")\n",
    "print(f\"Manager bonus: {manager.calculate_bonus()}\")\n"
   ]
  },
  {
   "cell_type": "markdown",
   "metadata": {},
   "source": [
    "#### Exercise 10: Composition\n",
    "Create classes for Engine, Wheels, and Body. Then create a Car class that uses composition to include these parts as attributes. Implement methods in the Car class that interact with its component parts."
   ]
  },
  {
   "cell_type": "code",
   "execution_count": 105,
   "metadata": {},
   "outputs": [
    {
     "name": "stdout",
     "output_type": "stream",
     "text": [
      "It is started.\n",
      "It is rotated.\n",
      "It is painted with Red.\n"
     ]
    }
   ],
   "source": [
    "class Engine:\n",
    "    def start(self):\n",
    "        print('It is started.')\n",
    "\n",
    "class Wheels:\n",
    "    def rotate(self):\n",
    "        print('It is rotated.')\n",
    "\n",
    "class Body:\n",
    "    def paint(self, color):\n",
    "        print(f'It is painted with {color}.')\n",
    "\n",
    "class Car:\n",
    "    def __init__(self):\n",
    "        self.engine = Engine()\n",
    "        self.wheels = Wheels()\n",
    "        self.body = Body()\n",
    "\n",
    "    def start_car(self):\n",
    "        return self.engine.start()\n",
    "\n",
    "    def drive(self):\n",
    "        return self.wheels.rotate()\n",
    "\n",
    "    def paint_car(self, color):\n",
    "        return self.body.paint(color)\n",
    "\n",
    "# Test your class\n",
    "my_car = Car()\n",
    "my_car.start_car()\n",
    "my_car.drive()\n",
    "my_car.paint_car(\"Red\")\n"
   ]
  }
 ],
 "metadata": {
  "kernelspec": {
   "display_name": "Python 3",
   "language": "python",
   "name": "python3"
  },
  "language_info": {
   "codemirror_mode": {
    "name": "ipython",
    "version": 3
   },
   "file_extension": ".py",
   "mimetype": "text/x-python",
   "name": "python",
   "nbconvert_exporter": "python",
   "pygments_lexer": "ipython3",
   "version": "3.13.2"
  }
 },
 "nbformat": 4,
 "nbformat_minor": 2
}
